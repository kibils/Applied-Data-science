{
 "cells": [
  {
   "cell_type": "markdown",
   "metadata": {},
   "source": [
    "# Assignment - 3"
   ]
  },
  {
   "cell_type": "markdown",
   "metadata": {},
   "source": [
    "Name - Kibilson sahayaraj"
   ]
  },
  {
   "cell_type": "markdown",
   "metadata": {},
   "source": [
    "**Introduction**\n",
    "\n",
    "This assignment is about exploring various statistical techniques such as Curve Fit model  and Clustering.The data used for this assignment is taken from The World Bank Data portal which provides access to global economic and development statistics including World Development Indicators, International Debt Statistics,education and gender. The statistical techniques are performed using CO2 emission data under Climate Change indicator. The following codes give the detailed information about the techniques used for exploring the data.\n",
    "\n",
    "**Installing the package**\n",
    "1. To import the required data from The World Bank website \n",
    "2. The pip command looks for the package in PyPI and installs everything in current Python environment to ensure that requests will work."
   ]
  },
  {
   "cell_type": "code",
   "execution_count": 37,
   "metadata": {
    "colab": {
     "base_uri": "https://localhost:8080/"
    },
    "id": "VrBL07Otwirt",
    "outputId": "95d04c1a-0867-4319-9461-8d8acf99788a"
   },
   "outputs": [
    {
     "name": "stdout",
     "output_type": "stream",
     "text": [
      "Requirement already satisfied: wbgapi in c:\\users\\rens\\anaconda3\\lib\\site-packages (1.0.7)\n",
      "Requirement already satisfied: tabulate in c:\\users\\rens\\anaconda3\\lib\\site-packages (from wbgapi) (0.8.9)\n",
      "Requirement already satisfied: PyYAML in c:\\users\\rens\\anaconda3\\lib\\site-packages (from wbgapi) (5.3)\n",
      "Requirement already satisfied: requests in c:\\users\\rens\\anaconda3\\lib\\site-packages (from wbgapi) (2.22.0)\n",
      "Requirement already satisfied: certifi>=2017.4.17 in c:\\users\\rens\\anaconda3\\lib\\site-packages (from requests->wbgapi) (2019.11.28)\n",
      "Requirement already satisfied: chardet<3.1.0,>=3.0.2 in c:\\users\\rens\\anaconda3\\lib\\site-packages (from requests->wbgapi) (3.0.4)\n",
      "Requirement already satisfied: urllib3!=1.25.0,!=1.25.1,<1.26,>=1.21.1 in c:\\users\\rens\\anaconda3\\lib\\site-packages (from requests->wbgapi) (1.25.8)\n",
      "Requirement already satisfied: idna<2.9,>=2.5 in c:\\users\\rens\\anaconda3\\lib\\site-packages (from requests->wbgapi) (2.8)\n",
      "Note: you may need to restart the kernel to use updated packages.\n"
     ]
    }
   ],
   "source": [
    "pip install wbgapi"
   ]
  },
  {
   "cell_type": "code",
   "execution_count": 38,
   "metadata": {
    "id": "tyNVMvy-u_Ir"
   },
   "outputs": [],
   "source": [
    "#Importing the required packages\n",
    "\n",
    "import wbgapi as wb\n",
    "wb.series.info(\"EN.ATM.CO2E.PC\")\n",
    "\n",
    "import pandas as pd"
   ]
  },
  {
   "cell_type": "markdown",
   "metadata": {},
   "source": [
    "**Dataset Creation**\n",
    "1. Importing required packages to pull dataset \n",
    "2. Creating user defined function to derive and pre-process the dataset"
   ]
  },
  {
   "cell_type": "code",
   "execution_count": 39,
   "metadata": {
    "id": "QeVBRCigvENn"
   },
   "outputs": [],
   "source": [
    "ind_ids=['EN.ATM.CO2E.PC']\n",
    "country_codes=['ARE','AUS','BEL','CAN','CHN','ESP','FRA','IND','IRQ','ITA','JPN','LBN','LKA','MEX','NAC','NPL','NZL',\n",
    "               'PAK','PHL','QAT','SAU','THA','UKR','USA','ZAF']"
   ]
  },
  {
   "cell_type": "code",
   "execution_count": 40,
   "metadata": {},
   "outputs": [],
   "source": [
    "#User defined function to create DataFrame\n",
    "\n",
    "def get_data(ids, code):\n",
    "    '''\n",
    "    The function takes Id and Country codes as two arguments and pull dataset from Worldbank website.\n",
    "    In addition to that it also pre-process the initial dataset and returns DataFrame in required format.\n",
    "    '''\n",
    "    \n",
    "    my_dataframe=wb.data.DataFrame(ids,code,mrv=5)\n",
    "    dset1=my_dataframe.reset_index()\n",
    "    dset1.rename(columns = {'economy':'country'}, inplace = True)\n",
    "    \n",
    "    return dset1"
   ]
  },
  {
   "cell_type": "code",
   "execution_count": 41,
   "metadata": {
    "id": "UUoce4UavLkl"
   },
   "outputs": [
    {
     "data": {
      "text/html": [
       "<div>\n",
       "<style scoped>\n",
       "    .dataframe tbody tr th:only-of-type {\n",
       "        vertical-align: middle;\n",
       "    }\n",
       "\n",
       "    .dataframe tbody tr th {\n",
       "        vertical-align: top;\n",
       "    }\n",
       "\n",
       "    .dataframe thead th {\n",
       "        text-align: right;\n",
       "    }\n",
       "</style>\n",
       "<table border=\"1\" class=\"dataframe\">\n",
       "  <thead>\n",
       "    <tr style=\"text-align: right;\">\n",
       "      <th></th>\n",
       "      <th>country</th>\n",
       "      <th>YR2014</th>\n",
       "      <th>YR2015</th>\n",
       "      <th>YR2016</th>\n",
       "      <th>YR2017</th>\n",
       "      <th>YR2018</th>\n",
       "    </tr>\n",
       "  </thead>\n",
       "  <tbody>\n",
       "    <tr>\n",
       "      <th>0</th>\n",
       "      <td>ARE</td>\n",
       "      <td>19.951852</td>\n",
       "      <td>20.948092</td>\n",
       "      <td>21.307610</td>\n",
       "      <td>21.950614</td>\n",
       "      <td>20.797498</td>\n",
       "    </tr>\n",
       "    <tr>\n",
       "      <th>1</th>\n",
       "      <td>AUS</td>\n",
       "      <td>15.755876</td>\n",
       "      <td>15.786449</td>\n",
       "      <td>15.872080</td>\n",
       "      <td>15.738647</td>\n",
       "      <td>15.475516</td>\n",
       "    </tr>\n",
       "    <tr>\n",
       "      <th>2</th>\n",
       "      <td>BEL</td>\n",
       "      <td>8.043496</td>\n",
       "      <td>8.444061</td>\n",
       "      <td>8.323757</td>\n",
       "      <td>8.155491</td>\n",
       "      <td>8.179711</td>\n",
       "    </tr>\n",
       "    <tr>\n",
       "      <th>3</th>\n",
       "      <td>CAN</td>\n",
       "      <td>15.854138</td>\n",
       "      <td>15.651386</td>\n",
       "      <td>15.244747</td>\n",
       "      <td>15.385316</td>\n",
       "      <td>15.497065</td>\n",
       "    </tr>\n",
       "    <tr>\n",
       "      <th>4</th>\n",
       "      <td>CHN</td>\n",
       "      <td>7.212791</td>\n",
       "      <td>7.124223</td>\n",
       "      <td>7.071898</td>\n",
       "      <td>7.174948</td>\n",
       "      <td>7.352263</td>\n",
       "    </tr>\n",
       "    <tr>\n",
       "      <th>5</th>\n",
       "      <td>ESP</td>\n",
       "      <td>5.184067</td>\n",
       "      <td>5.517944</td>\n",
       "      <td>5.314295</td>\n",
       "      <td>5.654040</td>\n",
       "      <td>5.520350</td>\n",
       "    </tr>\n",
       "    <tr>\n",
       "      <th>6</th>\n",
       "      <td>FRA</td>\n",
       "      <td>4.592377</td>\n",
       "      <td>4.666087</td>\n",
       "      <td>4.686612</td>\n",
       "      <td>4.727576</td>\n",
       "      <td>4.619241</td>\n",
       "    </tr>\n",
       "    <tr>\n",
       "      <th>7</th>\n",
       "      <td>IND</td>\n",
       "      <td>1.649328</td>\n",
       "      <td>1.641198</td>\n",
       "      <td>1.648359</td>\n",
       "      <td>1.719190</td>\n",
       "      <td>1.799825</td>\n",
       "    </tr>\n",
       "    <tr>\n",
       "      <th>8</th>\n",
       "      <td>IRQ</td>\n",
       "      <td>4.906435</td>\n",
       "      <td>4.559451</td>\n",
       "      <td>4.707649</td>\n",
       "      <td>4.641200</td>\n",
       "      <td>4.895195</td>\n",
       "    </tr>\n",
       "    <tr>\n",
       "      <th>9</th>\n",
       "      <td>ITA</td>\n",
       "      <td>5.387311</td>\n",
       "      <td>5.563260</td>\n",
       "      <td>5.498165</td>\n",
       "      <td>5.437858</td>\n",
       "      <td>5.376374</td>\n",
       "    </tr>\n",
       "    <tr>\n",
       "      <th>10</th>\n",
       "      <td>JPN</td>\n",
       "      <td>9.584054</td>\n",
       "      <td>9.292832</td>\n",
       "      <td>9.223942</td>\n",
       "      <td>9.085639</td>\n",
       "      <td>8.742258</td>\n",
       "    </tr>\n",
       "    <tr>\n",
       "      <th>11</th>\n",
       "      <td>LBN</td>\n",
       "      <td>3.983360</td>\n",
       "      <td>4.140720</td>\n",
       "      <td>4.141918</td>\n",
       "      <td>4.293650</td>\n",
       "      <td>4.039707</td>\n",
       "    </tr>\n",
       "    <tr>\n",
       "      <th>12</th>\n",
       "      <td>LKA</td>\n",
       "      <td>0.847050</td>\n",
       "      <td>0.970911</td>\n",
       "      <td>1.034288</td>\n",
       "      <td>1.087017</td>\n",
       "      <td>0.998154</td>\n",
       "    </tr>\n",
       "    <tr>\n",
       "      <th>13</th>\n",
       "      <td>MEX</td>\n",
       "      <td>3.808063</td>\n",
       "      <td>3.878195</td>\n",
       "      <td>3.885809</td>\n",
       "      <td>3.781216</td>\n",
       "      <td>3.741478</td>\n",
       "    </tr>\n",
       "    <tr>\n",
       "      <th>14</th>\n",
       "      <td>NAC</td>\n",
       "      <td>16.011487</td>\n",
       "      <td>15.549274</td>\n",
       "      <td>15.145405</td>\n",
       "      <td>14.866734</td>\n",
       "      <td>15.269348</td>\n",
       "    </tr>\n",
       "    <tr>\n",
       "      <th>15</th>\n",
       "      <td>NPL</td>\n",
       "      <td>0.264997</td>\n",
       "      <td>0.239126</td>\n",
       "      <td>0.342583</td>\n",
       "      <td>0.399165</td>\n",
       "      <td>0.428179</td>\n",
       "    </tr>\n",
       "    <tr>\n",
       "      <th>16</th>\n",
       "      <td>NZL</td>\n",
       "      <td>7.038636</td>\n",
       "      <td>6.983555</td>\n",
       "      <td>6.614200</td>\n",
       "      <td>6.838956</td>\n",
       "      <td>6.572665</td>\n",
       "    </tr>\n",
       "    <tr>\n",
       "      <th>17</th>\n",
       "      <td>PAK</td>\n",
       "      <td>0.786821</td>\n",
       "      <td>0.820300</td>\n",
       "      <td>0.886749</td>\n",
       "      <td>0.950910</td>\n",
       "      <td>0.981820</td>\n",
       "    </tr>\n",
       "    <tr>\n",
       "      <th>18</th>\n",
       "      <td>PHL</td>\n",
       "      <td>1.038770</td>\n",
       "      <td>1.113176</td>\n",
       "      <td>1.205049</td>\n",
       "      <td>1.298718</td>\n",
       "      <td>1.333691</td>\n",
       "    </tr>\n",
       "    <tr>\n",
       "      <th>19</th>\n",
       "      <td>QAT</td>\n",
       "      <td>32.693532</td>\n",
       "      <td>32.470570</td>\n",
       "      <td>32.128042</td>\n",
       "      <td>32.179371</td>\n",
       "      <td>32.415639</td>\n",
       "    </tr>\n",
       "    <tr>\n",
       "      <th>20</th>\n",
       "      <td>SAU</td>\n",
       "      <td>17.363162</td>\n",
       "      <td>17.691712</td>\n",
       "      <td>17.160324</td>\n",
       "      <td>16.334764</td>\n",
       "      <td>15.268781</td>\n",
       "    </tr>\n",
       "    <tr>\n",
       "      <th>21</th>\n",
       "      <td>THA</td>\n",
       "      <td>3.779438</td>\n",
       "      <td>3.828594</td>\n",
       "      <td>3.780122</td>\n",
       "      <td>3.766229</td>\n",
       "      <td>3.714039</td>\n",
       "    </tr>\n",
       "    <tr>\n",
       "      <th>22</th>\n",
       "      <td>UKR</td>\n",
       "      <td>5.248480</td>\n",
       "      <td>4.227086</td>\n",
       "      <td>4.471758</td>\n",
       "      <td>3.899968</td>\n",
       "      <td>4.154181</td>\n",
       "    </tr>\n",
       "    <tr>\n",
       "      <th>23</th>\n",
       "      <td>USA</td>\n",
       "      <td>16.026379</td>\n",
       "      <td>15.535342</td>\n",
       "      <td>15.131747</td>\n",
       "      <td>14.805882</td>\n",
       "      <td>15.240875</td>\n",
       "    </tr>\n",
       "    <tr>\n",
       "      <th>24</th>\n",
       "      <td>ZAF</td>\n",
       "      <td>8.213158</td>\n",
       "      <td>7.671202</td>\n",
       "      <td>7.564451</td>\n",
       "      <td>7.632729</td>\n",
       "      <td>7.496645</td>\n",
       "    </tr>\n",
       "  </tbody>\n",
       "</table>\n",
       "</div>"
      ],
      "text/plain": [
       "   country     YR2014     YR2015     YR2016     YR2017     YR2018\n",
       "0      ARE  19.951852  20.948092  21.307610  21.950614  20.797498\n",
       "1      AUS  15.755876  15.786449  15.872080  15.738647  15.475516\n",
       "2      BEL   8.043496   8.444061   8.323757   8.155491   8.179711\n",
       "3      CAN  15.854138  15.651386  15.244747  15.385316  15.497065\n",
       "4      CHN   7.212791   7.124223   7.071898   7.174948   7.352263\n",
       "5      ESP   5.184067   5.517944   5.314295   5.654040   5.520350\n",
       "6      FRA   4.592377   4.666087   4.686612   4.727576   4.619241\n",
       "7      IND   1.649328   1.641198   1.648359   1.719190   1.799825\n",
       "8      IRQ   4.906435   4.559451   4.707649   4.641200   4.895195\n",
       "9      ITA   5.387311   5.563260   5.498165   5.437858   5.376374\n",
       "10     JPN   9.584054   9.292832   9.223942   9.085639   8.742258\n",
       "11     LBN   3.983360   4.140720   4.141918   4.293650   4.039707\n",
       "12     LKA   0.847050   0.970911   1.034288   1.087017   0.998154\n",
       "13     MEX   3.808063   3.878195   3.885809   3.781216   3.741478\n",
       "14     NAC  16.011487  15.549274  15.145405  14.866734  15.269348\n",
       "15     NPL   0.264997   0.239126   0.342583   0.399165   0.428179\n",
       "16     NZL   7.038636   6.983555   6.614200   6.838956   6.572665\n",
       "17     PAK   0.786821   0.820300   0.886749   0.950910   0.981820\n",
       "18     PHL   1.038770   1.113176   1.205049   1.298718   1.333691\n",
       "19     QAT  32.693532  32.470570  32.128042  32.179371  32.415639\n",
       "20     SAU  17.363162  17.691712  17.160324  16.334764  15.268781\n",
       "21     THA   3.779438   3.828594   3.780122   3.766229   3.714039\n",
       "22     UKR   5.248480   4.227086   4.471758   3.899968   4.154181\n",
       "23     USA  16.026379  15.535342  15.131747  14.805882  15.240875\n",
       "24     ZAF   8.213158   7.671202   7.564451   7.632729   7.496645"
      ]
     },
     "execution_count": 41,
     "metadata": {},
     "output_type": "execute_result"
    }
   ],
   "source": [
    "# use of get_data()\n",
    "\n",
    "dset1=get_data(ind_ids,country_codes)\n",
    "dset1"
   ]
  },
  {
   "cell_type": "markdown",
   "metadata": {},
   "source": [
    "**Analysis - Curve Fit**\n",
    "1. Importing required packages to pull dataset \n",
    "2. Curve fitting and plotting the data points\n",
    "3. Prediction with the fitted model"
   ]
  },
  {
   "cell_type": "code",
   "execution_count": 42,
   "metadata": {
    "colab": {
     "base_uri": "https://localhost:8080/",
     "height": 312
    },
    "id": "4YZopafHp7Nm",
    "outputId": "b16ca4d8-5ab2-44c2-bc35-e14dbb875c0e"
   },
   "outputs": [],
   "source": [
    "#Importing required packages\n",
    "\n",
    "from numpy import arange\n",
    "from pandas import read_csv\n",
    "from scipy.optimize import curve_fit\n",
    "from matplotlib import pyplot"
   ]
  },
  {
   "cell_type": "code",
   "execution_count": 43,
   "metadata": {},
   "outputs": [
    {
     "name": "stdout",
     "output_type": "stream",
     "text": [
      "y = 0.97429 * x + 0.04422\n"
     ]
    }
   ],
   "source": [
    " # define the true objective function\n",
    "def objective(x, a, b):\n",
    "    return a * x + b\n",
    "\n",
    "#Dataset for the plot\n",
    "dset3=dset1.values\n",
    "\n",
    "# choose the input and output variables\n",
    "x, y = dset3[:, 2], dset3[:, -1]\n",
    "\n",
    "# curve fit\n",
    "popt, _ = curve_fit(objective, x, y)\n",
    "\n",
    "# summarize the parameter values\n",
    "a, b = popt\n",
    "print('y = %.5f * x + %.5f' % (a, b))"
   ]
  },
  {
   "cell_type": "code",
   "execution_count": 44,
   "metadata": {},
   "outputs": [
    {
     "data": {
      "image/png": "[encoded data removed]",
      "text/plain": [
       "<Figure size 432x288 with 1 Axes>"
      ]
     },
     "metadata": {
      "needs_background": "light"
     },
     "output_type": "display_data"
    }
   ],
   "source": [
    "# plot input vs output\n",
    "pyplot.scatter(x, y,color='red')\n",
    "x_line = arange(min(x), max(x), 1)              # define a sequence of inputs between the smallest and largest known inputs\n",
    "y_line = objective(x_line, a, b)                # calculate the output for the range\n",
    "pyplot.plot(x_line, y_line,'-', color='green')  # create a line plot for the mapping function\n",
    "pyplot.title('CO2 Emissions of 2014 vs 2018')   # Add title and axis names\n",
    "pyplot.xlabel('YR2014')\n",
    "pyplot.ylabel('YR2018')\n",
    "pyplot.show()"
   ]
  },
  {
   "cell_type": "markdown",
   "metadata": {},
   "source": [
    "# Prediction"
   ]
  },
  {
   "cell_type": "code",
   "execution_count": 45,
   "metadata": {},
   "outputs": [],
   "source": [
    "#Prediction with the fitted model\n",
    "#defining a funtion to predict\n",
    "\n",
    "def fit_predict(x):\n",
    "    '''\n",
    "    The function returns predicted value for a particular input with the estimates of previous fitted model.\n",
    "    '''\n",
    "    return 0.97429 * x + 0.04422\n",
    "    "
   ]
  },
  {
   "cell_type": "code",
   "execution_count": 46,
   "metadata": {},
   "outputs": [
    {
     "name": "stdout",
     "output_type": "stream",
     "text": [
      "Predicted value of x = 20 is :  19.53002\n"
     ]
    }
   ],
   "source": [
    "pred_output = fit_predict(20)\n",
    "print('Predicted value of x = 20 is : ',pred_output)"
   ]
  },
  {
   "cell_type": "markdown",
   "metadata": {},
   "source": [
    "**Analysis - Clustering**\n",
    "1. Import required packages\n",
    "2. It is necessary to normalize the data before clustering so that quality clusters are generated.\n",
    "3. It becomes essential as Eucledian distance is very sensitive to the changes in differences.\n",
    "4. sklearn library in python ontains efficient tools for machine learning and statistical modelling including classification,regression,clustering and dimensionality reduction.\n",
    "5. k-means clustering is performed using sklearn library for generating clusters."
   ]
  },
  {
   "cell_type": "code",
   "execution_count": 47,
   "metadata": {},
   "outputs": [],
   "source": [
    "#importing packages\n",
    "import pandas as pd\n",
    "import numpy as np\n",
    "import sklearn.cluster as cluster\n",
    "import matplotlib.pyplot as plt\n",
    "%matplotlib inline"
   ]
  },
  {
   "cell_type": "code",
   "execution_count": 48,
   "metadata": {},
   "outputs": [],
   "source": [
    "def norm(array):\n",
    "    \n",
    "    '''Returns array normalised to [0,1].Array can be a numpy array or a column of a dataframe'''\n",
    "    \n",
    "    mn_val = np.min(array)\n",
    "    max_val = np.max(array)\n",
    "    scaled = (array-mn_val) / (max_val-mn_val)\n",
    "    \n",
    "    return scaled\n",
    "\n",
    "def norm_df(df):\n",
    "\n",
    "    '''Returns all columns of the dataframe normalised to [0,1] with the exception the first (containing the country names) \n",
    "    Calls function norm to do the normalisation of one column, iterate over all columns'''\n",
    "    \n",
    "    for col in df.columns[1:]: # excluding the first column\n",
    "        df[col] = norm(df[col])\n",
    "        \n",
    "        return df"
   ]
  },
  {
   "cell_type": "code",
   "execution_count": 49,
   "metadata": {
    "colab": {
     "base_uri": "https://localhost:8080/"
    },
    "id": "Xf6QFoxw5dHJ",
    "outputId": "af7627e2-9fa0-480e-9b22-c6aae6a5af4d"
   },
   "outputs": [
    {
     "name": "stdout",
     "output_type": "stream",
     "text": [
      "\n",
      "Summary statistics of dataset \n",
      "\n",
      "          YR2014     YR2015     YR2016     YR2017     YR2018\n",
      "count  25.000000  25.000000  25.000000  25.000000  25.000000\n",
      "mean    8.609002   8.572590   8.495662   8.472233   8.396420\n",
      "std     7.725511   7.736646   7.636538   7.622223   7.552697\n",
      "min     0.264997   0.239126   0.342583   0.399165   0.428179\n",
      "25%     3.808063   3.878195   3.885809   3.781216   3.741478\n",
      "50%     5.387311   5.563260   5.498165   5.654040   5.520350\n",
      "75%    15.755876  15.535342  15.131747  14.805882  15.240875\n",
      "max    32.693532  32.470570  32.128042  32.179371  32.415639\n",
      "\n",
      "Correlation matrix\n",
      " \n",
      "           YR2014    YR2015    YR2016    YR2017    YR2018\n",
      "YR2014  1.000000  0.998771  0.998149  0.996230  0.997249\n",
      "YR2015  0.998771  1.000000  0.999659  0.998632  0.998021\n",
      "YR2016  0.998149  0.999659  1.000000  0.999311  0.998417\n",
      "YR2017  0.996230  0.998632  0.999311  1.000000  0.998848\n",
      "YR2018  0.997249  0.998021  0.998417  0.998848  1.000000\n",
      "\n",
      "Normalized dataset \n",
      "\n",
      "          YR2014     YR2015     YR2016     YR2017     YR2018\n",
      "count  25.000000  25.000000  25.000000  25.000000  25.000000\n",
      "mean    0.257304   8.572590   8.495662   8.472233   8.396420\n",
      "std     0.238232   7.736646   7.636538   7.622223   7.552697\n",
      "min     0.000000   0.239126   0.342583   0.399165   0.428179\n",
      "25%     0.109258   3.878195   3.885809   3.781216   3.741478\n",
      "50%     0.157957   5.563260   5.498165   5.654040   5.520350\n",
      "75%     0.477693  15.535342  15.131747  14.805882  15.240875\n",
      "max     1.000000  32.470570  32.128042  32.179371  32.415639\n"
     ]
    }
   ],
   "source": [
    "#Read in and normalise\n",
    "\n",
    "df_co=dset1\n",
    "print('\\nSummary statistics of dataset','\\n')\n",
    "print(df_co.describe())\n",
    "\n",
    "print('\\nCorrelation matrix\\n','\\n',df_co.corr())\n",
    "\n",
    "\n",
    "print('\\nNormalized dataset','\\n')\n",
    "# normalise result and inspect results\n",
    "df_co2= norm_df(df_co)\n",
    "print(df_co2.describe()) "
   ]
  },
  {
   "cell_type": "code",
   "execution_count": 50,
   "metadata": {
    "colab": {
     "base_uri": "https://localhost:8080/",
     "height": 1000
    },
    "id": "PfkQeqR0AUo2",
    "outputId": "38f4dc36-d89d-4d27-ba9b-24f491e511a5"
   },
   "outputs": [
    {
     "data": {
      "image/png": "[encoded data removed]",
      "text/plain": [
       "<Figure size 360x360 with 1 Axes>"
      ]
     },
     "metadata": {
      "needs_background": "light"
     },
     "output_type": "display_data"
    },
    {
     "data": {
      "image/png": "[encoded data removed]",
      "text/plain": [
       "<Figure size 432x288 with 1 Axes>"
      ]
     },
     "metadata": {
      "needs_background": "light"
     },
     "output_type": "display_data"
    },
    {
     "data": {
      "image/png": "[encoded data removed]",
      "text/plain": [
       "<Figure size 432x288 with 1 Axes>"
      ]
     },
     "metadata": {
      "needs_background": "light"
     },
     "output_type": "display_data"
    },
    {
     "data": {
      "image/png": "[encoded data removed]",
      "text/plain": [
       "<Figure size 432x288 with 1 Axes>"
      ]
     },
     "metadata": {
      "needs_background": "light"
     },
     "output_type": "display_data"
    }
   ],
   "source": [
    "kmeans = cluster.KMeans(n_clusters=4)\n",
    "# extract columns for fitting\n",
    "df_fit = df_co2[[\"YR2017\", \"YR2018\"]].copy()\n",
    "kmeans.fit(df_fit)\n",
    "\n",
    "# extract labels and cluster centres\n",
    "labels = kmeans.labels_\n",
    "cen = kmeans.cluster_centers_\n",
    "\n",
    "# plot using the labels to select colour\n",
    "pyplot.figure(figsize=(5.0,5.0))\n",
    "col = [\"blue\", \"red\", \"green\", \"magenta\"]\n",
    "for l in range(4): # loop over the different labels\n",
    "    pyplot.plot(df_fit[\"YR2017\"][labels==l], df_fit[\"YR2018\"][labels==l],\"o\", markersize=3, color=col[l])\n",
    "    \n",
    "# show cluster centres\n",
    "for ic in range(4):\n",
    "    xc, yc = cen[ic,:]\n",
    "    pyplot.plot(xc, yc, \"dk\", markersize=10)\n",
    "    pyplot.xlabel(\"YR2017\")\n",
    "    pyplot.ylabel(\"YR2018\")\n",
    "    pyplot.show()"
   ]
  },
  {
   "cell_type": "markdown",
   "metadata": {},
   "source": [
    "**Conclusion**\n",
    "\n",
    "    From the global data only few countries were selected and performed the statistical techniques, It could be found that the linear regression gives linear relationship between variables. \n",
    "    \n",
    "    Since the data is small the clusters were less informative. The dataset with large number of observations could make the best classificaton."
   ]
  },
  {
   "cell_type": "code",
   "execution_count": null,
   "metadata": {},
   "outputs": [],
   "source": []
  }
 ],
 "metadata": {
  "accelerator": "GPU",
  "colab": {
   "collapsed_sections": [],
   "name": "Copy of l01c01_introduction_to_colab_and_python.ipynb",
   "provenance": []
  },
  "kernelspec": {
   "display_name": "Python 3 (ipykernel)",
   "language": "python",
   "name": "python3"
  },
  "language_info": {
   "codemirror_mode": {
    "name": "ipython",
    "version": 3
   },
   "file_extension": ".py",
   "mimetype": "text/x-python",
   "name": "python",
   "nbconvert_exporter": "python",
   "pygments_lexer": "ipython3",
   "version": "3.9.7"
  }
 },
 "nbformat": 4,
 "nbformat_minor": 1
}
